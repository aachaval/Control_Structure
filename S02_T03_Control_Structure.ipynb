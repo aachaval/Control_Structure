{
 "cells": [
  {
   "cell_type": "markdown",
   "id": "c4baeba6",
   "metadata": {},
   "source": [
    "# Sprint 2 Task 3 (S02_T03)\n",
    "\n",
    "Author: *Alberto Achaval*"
   ]
  },
  {
   "cell_type": "markdown",
   "id": "39d699ee",
   "metadata": {},
   "source": [
    "## Level 1 "
   ]
  },
  {
   "cell_type": "markdown",
   "id": "62aafc98",
   "metadata": {},
   "source": [
    "### Practice 1"
   ]
  },
  {
   "cell_type": "code",
   "execution_count": 25,
   "id": "d311875c",
   "metadata": {},
   "outputs": [
    {
     "name": "stdout",
     "output_type": "stream",
     "text": [
      "Suspended\n",
      "Excellent\n",
      "Notable\n",
      "Suspended\n",
      "Score should be between 0-10\n"
     ]
    }
   ],
   "source": [
    "# Score classification\n",
    "\n",
    "def scores_classification(score): # I define a function\n",
    "    if score >= 0 and score < 4:\n",
    "        print('Suspended')\n",
    "    elif score >= 4 and score < 7:\n",
    "        print('Approved')\n",
    "    elif score >= 7 and score < 9:\n",
    "        print('Notable')\n",
    "    elif score >=9 and score <= 10:\n",
    "        print('Excellent')\n",
    "    else:\n",
    "        print('Score should be between 0-10')\n",
    "    \n",
    "        \n",
    "scores_classification(3.9) # Call the function\n",
    "scores_classification(9)\n",
    "scores_classification(7.5)\n",
    "scores_classification(0)\n",
    "scores_classification(13.9)\n"
   ]
  },
  {
   "cell_type": "markdown",
   "id": "8ab91f27",
   "metadata": {},
   "source": [
    "### Practice 2"
   ]
  },
  {
   "cell_type": "code",
   "execution_count": 24,
   "id": "67fa8fba",
   "metadata": {
    "scrolled": true
   },
   "outputs": [
    {
     "name": "stdout",
     "output_type": "stream",
     "text": [
      "Enter a number: 5\n",
      "Enter another number: 8\n",
      "Number 8 is bigger than 5!\n"
     ]
    }
   ],
   "source": [
    "# Number comparation, input()\n",
    "\n",
    "num = int(input('Enter a number: ')) # input gives me a string\n",
    "num2 = int(input('Enter another number: '))\n",
    "\n",
    "if num > num2:\n",
    "    print('Number {0} is bigger than {1}!'.format(num,num2))\n",
    "elif num < num2:\n",
    "    print('Number {0} is bigger than {1}!'.format(num2,num))\n",
    "elif num == num2:\n",
    "    print('Numbers are equal!')\n"
   ]
  },
  {
   "cell_type": "markdown",
   "id": "f4e6062f",
   "metadata": {},
   "source": [
    "### Practice 3"
   ]
  },
  {
   "cell_type": "code",
   "execution_count": 65,
   "id": "069e47cf",
   "metadata": {},
   "outputs": [
    {
     "name": "stdout",
     "output_type": "stream",
     "text": [
      "Please, insert your name: Alberto\n",
      "Please, insert a number: 5\n",
      "Alberto Alberto Alberto Alberto Alberto \n"
     ]
    }
   ],
   "source": [
    "# Name multiplication\n",
    "\n",
    "def repeat_name(my_name, number):\n",
    "    if number == 0:\n",
    "        print('Number should be higher than 0!')\n",
    "    elif number > 0:\n",
    "        print('{0} '.format(my_name) * number)\n",
    "\n",
    "my_name = input('Please, insert your name: ')\n",
    "number = int(input('Please, insert a number: '))\n",
    "\n",
    "repeat_name(my_name, number) # Call the function\n"
   ]
  },
  {
   "cell_type": "markdown",
   "id": "279757d1",
   "metadata": {},
   "source": [
    "### Practice 4"
   ]
  },
  {
   "cell_type": "code",
   "execution_count": 2,
   "id": "2e4921a8",
   "metadata": {},
   "outputs": [
    {
     "name": "stdout",
     "output_type": "stream",
     "text": [
      "It's Symmetrical and has 9 elements\n"
     ]
    }
   ],
   "source": [
    "# Symmetrical number list\n",
    "\n",
    "my_list = [1,1,1,1,5,1,1,1,1]\n",
    "my_list_inv = my_list[::-1] # Inverted list with slice operator\n",
    "\n",
    "# my_list_inv = list(reversed(my_list)) # Option\n",
    "\n",
    "# my_list_inv = [i for i in reversed(my_list)] # Option\n",
    "\n",
    "if my_list == my_list_inv:\n",
    "    print('''It's Symmetrical and has {} elements'''.format(len (my_list)))\n",
    "else:\n",
    "    print('''It's not symmetrical''')\n",
    "\n"
   ]
  },
  {
   "cell_type": "markdown",
   "id": "68f48159",
   "metadata": {},
   "source": [
    "### Practice 5"
   ]
  },
  {
   "cell_type": "code",
   "execution_count": 22,
   "id": "d4266bdb",
   "metadata": {},
   "outputs": [
    {
     "name": "stdout",
     "output_type": "stream",
     "text": [
      "There are 4 numbers [1, 3, 4, 6] were position and value matches\n"
     ]
    }
   ],
   "source": [
    "# Matching position and value\n",
    "\n",
    "def matches(given_list):\n",
    "    long = range(len(given_list))\n",
    "    i = 0\n",
    "    new_list = []\n",
    "\n",
    "    for i in long:\n",
    "        if i == given_list[i]:\n",
    "            new_list.append(i)\n",
    "        \n",
    "    total = len(new_list)\n",
    "    print('There are {} numbers {} were position and value matches'.format(total, new_list))\n",
    "    \n",
    "    \n",
    "given_list = [2,1,0,3,4,6,6]\n",
    "matches(given_list)\n"
   ]
  },
  {
   "cell_type": "code",
   "execution_count": 23,
   "id": "b234d2c8",
   "metadata": {},
   "outputs": [
    {
     "name": "stdout",
     "output_type": "stream",
     "text": [
      "There are 2 numbers [0, 1] were position and value matches\n"
     ]
    }
   ],
   "source": [
    "# Another test\n",
    "\n",
    "given_list = [0,1,5,6,2,4,58,8,4,3,5,4,6,4,16,1]\n",
    "matches(given_list)"
   ]
  },
  {
   "cell_type": "code",
   "execution_count": 24,
   "id": "cb1664e2",
   "metadata": {},
   "outputs": [
    {
     "name": "stdout",
     "output_type": "stream",
     "text": [
      "There are 30 numbers [0, 1, 2, 3, 4, 5, 6, 7, 8, 9, 10, 11, 12, 13, 14, 15, 16, 17, 18, 19, 20, 21, 22, 23, 24, 25, 26, 27, 28, 29] were position and value matches\n"
     ]
    }
   ],
   "source": [
    "# Another test\n",
    "\n",
    "given_list = [i for i in range(30)]\n",
    "matches(given_list)"
   ]
  }
 ],
 "metadata": {
  "kernelspec": {
   "display_name": "Python 3 (ipykernel)",
   "language": "python",
   "name": "python3"
  },
  "language_info": {
   "codemirror_mode": {
    "name": "ipython",
    "version": 3
   },
   "file_extension": ".py",
   "mimetype": "text/x-python",
   "name": "python",
   "nbconvert_exporter": "python",
   "pygments_lexer": "ipython3",
   "version": "3.9.7"
  }
 },
 "nbformat": 4,
 "nbformat_minor": 5
}
